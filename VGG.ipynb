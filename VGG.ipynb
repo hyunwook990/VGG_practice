{
 "cells": [
  {
   "cell_type": "markdown",
   "id": "35c31a70",
   "metadata": {},
   "source": [
    "# VGG 16"
   ]
  },
  {
   "cell_type": "markdown",
   "id": "a37a97af",
   "metadata": {},
   "source": [
    "### 라이브러리 import"
   ]
  },
  {
   "cell_type": "code",
   "execution_count": 1,
   "id": "4ea2bd88",
   "metadata": {},
   "outputs": [],
   "source": [
    "import torch\n",
    "import torch.nn as nn\n",
    "import torch.nn.functional as F\n",
    "import torch.optim as optim"
   ]
  },
  {
   "cell_type": "code",
   "execution_count": null,
   "id": "02da176b",
   "metadata": {},
   "outputs": [],
   "source": []
  },
  {
   "cell_type": "markdown",
   "id": "8307330d",
   "metadata": {},
   "source": [
    "### 모델 구현"
   ]
  },
  {
   "cell_type": "code",
   "execution_count": null,
   "id": "85fcee09",
   "metadata": {},
   "outputs": [],
   "source": [
    "class VGG_16(nn.Module):\n",
    "    def __init__(self):\n",
    "        super(VGG_16,self).__init__()\n",
    "        self.convnet = nn.Sequential(\n",
    "            nn.Conv2d(in_channels=3, out_channels=64, kernel_size=3, stride=1, padding=1),\n",
    "            nn.ReLU(),\n",
    "            nn.Conv2d(in_channels=64, out_channels=64, kernel_size=3, stride=1, padding=1),\n",
    "            nn.ReLU(),\n",
    "            nn.MaxPool2d(kernel_size=2, stride=2),\n",
    "            # 224 -> 112\n",
    "\n",
    "            nn.Conv2d(in_channels=64, out_channels=128, kernel_size=3, stride=1, padding=1),\n",
    "            nn.ReLU(),\n",
    "            nn.Conv2d(in_channels=128, out_channels=128, kernel_size=3, stride=1, padding=1),\n",
    "            nn.ReLU(),\n",
    "            nn.MaxPool2d(kernel_size=2, stride=2),\n",
    "            # 112 -> 56\n",
    "\n",
    "            nn.Conv2d(in_channels=128, out_channels=256, kernel_size=3, stride=1, padding=1),\n",
    "            nn.ReLU(),\n",
    "            nn.Conv2d(in_channels=256, out_channels=256, kernel_size=3, stride=1, padding=1),\n",
    "            nn.ReLU(),\n",
    "            nn.Conv2d(in_channels=256, out_channels=256, kernel_size=3, stride=1, padding=1),\n",
    "            nn.ReLU(),\n",
    "            nn.MaxPool2d(kernel_size=2, stride=2),\n",
    "            # 56 -> 28\n",
    "            \n",
    "            nn.Conv2d(in_channels=256, out_channels=512, kernel_size=3, stride=1, padding=1),\n",
    "            nn.ReLU(),\n",
    "            nn.Conv2d(in_channels=512, out_channels=512, kernel_size=3, stride=1, padding=1),\n",
    "            nn.ReLU(),\n",
    "            nn.Conv2d(in_channels=512, out_channels=512, kernel_size=3, stride=1, padding=1),\n",
    "            nn.ReLU(),\n",
    "            nn.MaxPool2d(kernel_size=2, stride=2),\n",
    "            # 28 -> 14\n",
    "\n",
    "            nn.Conv2d(in_channels=512, out_channels=512, kernel_size=3, stride=1, padding=1),\n",
    "            nn.ReLU(),\n",
    "            nn.Conv2d(in_channels=512, out_channels=512, kernel_size=3, stride=1, padding=1),\n",
    "            nn.ReLU(),\n",
    "            nn.Conv2d(in_channels=512, out_channels=512, kernel_size=3, stride=1, padding=1),\n",
    "            nn.ReLU(),\n",
    "            nn.MaxPool2d(kernel_size=2, stride=2),\n",
    "            # 14 -> 7\n",
    "\n",
    "            nn.Flatten(), # Flatten은 layer로 안쳐준다.\n",
    "            nn.Dropout(.5),\n",
    "            nn.Linear(in_features=512*7*7, out_features=4096),\n",
    "            nn.ReLU(),\n",
    "            nn.Dropout(.5),\n",
    "            nn.Linear(in_features=4096, out_features=4096),\n",
    "            nn.ReLU(),\n",
    "            nn.Linear(in_features=4096, out_features=1000)\n",
    "        )\n",
    "    def forward(self, x):\n",
    "        return self.convnet(x)\n",
    "    "
   ]
  },
  {
   "cell_type": "code",
   "execution_count": null,
   "id": "ca86b7b0",
   "metadata": {},
   "outputs": [],
   "source": [
    "model = VGG_16()\n",
    "\n",
    "loss_fn = nn.CrossEntropyLoss()\n",
    "optimizer = optim.SGD(params=model.parameters(), lr=1e-2, momentum=.9, weight_decay=5e-4)"
   ]
  },
  {
   "cell_type": "markdown",
   "id": "988fe5a4",
   "metadata": {},
   "source": [
    "### 학습 함수"
   ]
  },
  {
   "cell_type": "code",
   "execution_count": null,
   "id": "93f3aa79",
   "metadata": {},
   "outputs": [],
   "source": [
    "def train(dataloader, model, loss_fn, optimizer):\n",
    "    size = len(dataloader) # 사실 없어도 됨 마지막에 가독성을 좋게하기위해 사용\n",
    "    model.train()   # torch안의 module안에 train이라는 메소드가 있다.\n",
    "    \n",
    "    for batch, data in enumerate(dataloader):\n",
    "        image, label = data\n",
    "\n",
    "        # Compute prediction error \n",
    "        pred = model(image) # model.forward(image)\n",
    "        # softmax = nn.Softmax(dim=1)\n",
    "        # pred_probab = softmax(pred)\n",
    "        loss = loss_fn(pred, label)\n",
    "\n",
    "        # backpropagation\n",
    "        loss.backward() # 쓸모없는 노드를 지운다. # 매개변수를 안정해주면 랜덤으로 잡고 경사하강을 한다.\n",
    "        optimizer.step() #learning rate 만큼 내려간다.\n",
    "        optimizer.zero_grad() #초기화해주는데 해주는 이유는 이전 스텝을 기억하고있으면 다음 스텝에 영향을 줄 수 있기때문에 초기화한다.\n",
    "\n",
    "        if not(batch % 100):\n",
    "            loss, current = loss.item(), (batch + 1) * len(image)\n",
    "            print(f\"loss : {loss:>7f}   [{current:>5d}/{size:>5d}]\")"
   ]
  },
  {
   "cell_type": "markdown",
   "id": "8fb03c7e",
   "metadata": {},
   "source": [
    "### 테스트 함수"
   ]
  },
  {
   "cell_type": "code",
   "execution_count": null,
   "id": "79bca760",
   "metadata": {},
   "outputs": [],
   "source": [
    "def test(dataloader, model, loss_fn):\n",
    "    size = len(dataloader.dataset)\n",
    "    num_batches = len(dataloader)\n",
    "    model.eval() #평가를 해주겠다 명시\n",
    "    test_loss, correct = 0, 0\n",
    "    \n",
    "    with torch.no_grad(): #no_grad -> 최적화를 수행하지 않겠다.\n",
    "        for image, label in dataloader:\n",
    "            pred = model(image)\n",
    "            # softmax = nn.Softmax(dim=1)\n",
    "            # pred_probab = softmax(pred)\n",
    "            test_loss += loss_fn(pred, label).item() #.item() -> loss_fn에 있는 데이터값을 불러준다.\n",
    "            correct += (pred.argmax(1) == label).type(torch.float).sum().item()\n",
    "                            #argmax --> 예측값중에 가장 큰 값을 뽑아오는 것\n",
    "    \n",
    "    test_loss /= num_batches\n",
    "    correct /=size\n",
    "    print(f\"Test Error: \\n Accuracy: {(100*correct):>0.1f}%, Avg loss: {test_loss:>8f} \\n\")"
   ]
  },
  {
   "cell_type": "markdown",
   "id": "8f481213",
   "metadata": {},
   "source": [
    "### 실행"
   ]
  },
  {
   "cell_type": "code",
   "execution_count": null,
   "id": "ff3c3b03",
   "metadata": {},
   "outputs": [],
   "source": [
    "epochs = 30\n",
    "for i in range(epochs):\n",
    "    print(f\"Epoch {i + 1}\\n------------------------------------------------\")\n",
    "    train(train_dataloader, model, loss_fn, optimizer)\n",
    "    test(test_dataloader, model, loss_fn)\n",
    "print(\"Done\")"
   ]
  }
 ],
 "metadata": {
  "kernelspec": {
   "display_name": "test_env",
   "language": "python",
   "name": "python3"
  },
  "language_info": {
   "codemirror_mode": {
    "name": "ipython",
    "version": 3
   },
   "file_extension": ".py",
   "mimetype": "text/x-python",
   "name": "python",
   "nbconvert_exporter": "python",
   "pygments_lexer": "ipython3",
   "version": "3.9.21"
  }
 },
 "nbformat": 4,
 "nbformat_minor": 5
}
