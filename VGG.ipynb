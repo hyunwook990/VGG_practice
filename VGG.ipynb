{
 "cells": [
  {
   "cell_type": "markdown",
   "id": "35c31a70",
   "metadata": {},
   "source": [
    "# VGG 16"
   ]
  },
  {
   "cell_type": "markdown",
   "id": "a37a97af",
   "metadata": {},
   "source": [
    "### 라이브러리 import"
   ]
  },
  {
   "cell_type": "code",
   "execution_count": 26,
   "id": "4fb81f07",
   "metadata": {},
   "outputs": [],
   "source": [
    "# !pip install opencv-python"
   ]
  },
  {
   "cell_type": "code",
   "execution_count": null,
   "id": "4ea2bd88",
   "metadata": {},
   "outputs": [],
   "source": [
    "import torch\n",
    "import torch.nn as nn\n",
    "import torch.nn.functional as F\n",
    "import torch.optim as optim\n",
    "import torchvision.transforms as transforms\n",
    "import os\n",
    "import pandas as pd\n",
    "import cv2 # 이미지 처리를 도와주는 라이브러리\n",
    "import numpy as np\n",
    "from sklearn.preprocessing import LabelEncoder\n",
    "import matplotlib.pyplot as plt\n",
    "import json\n",
    "import h5py\n",
    "from torch.utils.data import DataLoader\n",
    "from torchsummary import summary"
   ]
  },
  {
   "cell_type": "markdown",
   "id": "db6b5a8d",
   "metadata": {},
   "source": [
    "## 데이터 로드"
   ]
  },
  {
   "cell_type": "code",
   "execution_count": null,
   "id": "9d54babe",
   "metadata": {},
   "outputs": [],
   "source": [
    "# hdf5, json 파일 로드\n",
    "hdf5_path = \n",
    "json_path = \n",
    "\n",
    "with h5py.File(hdf5_path, 'r') as hf:\n",
    "    train_data = \n",
    "    train_label = \n",
    "    test_data = \n",
    "\n",
    "with open(json_path, 'r') as j:\n",
    "    train_classes = \n",
    "\n",
    "# key값들이 str로 들어오기에 int로 변환해서 다시 저장\n",
    "train_classes = "
   ]
  },
  {
   "cell_type": "code",
   "execution_count": null,
   "id": "beeb31ab",
   "metadata": {},
   "outputs": [],
   "source": [
    "# 이미지 샘플 확인\n",
    "def imshow(images, labels, classes):\n",
    "    plt.figure(figsize=(12, 8))\n",
    "\n",
    "    for i in range(len(images)):\n",
    "        plt.subplot(1, len(images), i+1)\n",
    "        plt.imshow(images[i])\n",
    "        plt.title(classes[labels[i]])\n",
    "    plt.shwo()"
   ]
  },
  {
   "cell_type": "code",
   "execution_count": null,
   "id": "e0fdf7a6",
   "metadata": {},
   "outputs": [],
   "source": [
    "# 데이터셋 생성 클래스\n",
    "# init: self, image, label, classes, transform, target_transform, test\n",
    "# len: train - image, label / test - image\n",
    "# getitem: 정규화"
   ]
  },
  {
   "cell_type": "code",
   "execution_count": 28,
   "id": "d1b0f4cc",
   "metadata": {},
   "outputs": [],
   "source": [
    "# 픽셀값들을 정규화 해줌\n",
    "# 픽셀들은 0~255사이의 값을 가지기 때문에 값들간의 편차가 크다\n",
    "# 따라서 값들간의 차이를 줄여 가중치의 영향을 줄여주기 위함\n",
    "transform = transforms.Compose([\n",
    "    transforms.ToTensor(),\n",
    "    transforms.Normalize((0.5, 0.5, 0.5), (0.5, 0.5, 0.5))\n",
    "])"
   ]
  },
  {
   "cell_type": "code",
   "execution_count": null,
   "id": "fd6e6775",
   "metadata": {},
   "outputs": [],
   "source": [
    "# train test dataset 객체 생성\n",
    "train_dataset = \n",
    "\n",
    "test_dataset = "
   ]
  },
  {
   "cell_type": "code",
   "execution_count": null,
   "id": "b98545a9",
   "metadata": {},
   "outputs": [],
   "source": [
    "# dataloader 생성"
   ]
  },
  {
   "cell_type": "markdown",
   "id": "8307330d",
   "metadata": {},
   "source": [
    "### 모델 구현"
   ]
  },
  {
   "cell_type": "code",
   "execution_count": null,
   "id": "85fcee09",
   "metadata": {},
   "outputs": [],
   "source": [
    "class VGG_16(nn.Module):\n",
    "    def __init__(self):\n",
    "        super(VGG_16,self).__init__()\n",
    "        self.convnet = nn.Sequential(\n",
    "            nn.Conv2d(in_channels=3, out_channels=64, kernel_size=3, stride=1, padding=1),\n",
    "            nn.ReLU(),\n",
    "            nn.Conv2d(in_channels=64, out_channels=64, kernel_size=3, stride=1, padding=1),\n",
    "            nn.ReLU(),\n",
    "            nn.MaxPool2d(kernel_size=2, stride=2),\n",
    "            # 224 -> 112\n",
    "\n",
    "            nn.Conv2d(in_channels=64, out_channels=128, kernel_size=3, stride=1, padding=1),\n",
    "            nn.ReLU(),\n",
    "            nn.Conv2d(in_channels=128, out_channels=128, kernel_size=3, stride=1, padding=1),\n",
    "            nn.ReLU(),\n",
    "            nn.MaxPool2d(kernel_size=2, stride=2),\n",
    "            # 112 -> 56\n",
    "\n",
    "            nn.Conv2d(in_channels=128, out_channels=256, kernel_size=3, stride=1, padding=1),\n",
    "            nn.ReLU(),\n",
    "            nn.Conv2d(in_channels=256, out_channels=256, kernel_size=3, stride=1, padding=1),\n",
    "            nn.ReLU(),\n",
    "            nn.Conv2d(in_channels=256, out_channels=256, kernel_size=3, stride=1, padding=1),\n",
    "            nn.ReLU(),\n",
    "            nn.MaxPool2d(kernel_size=2, stride=2),\n",
    "            # 56 -> 28\n",
    "            \n",
    "            nn.Conv2d(in_channels=256, out_channels=512, kernel_size=3, stride=1, padding=1),\n",
    "            nn.ReLU(),\n",
    "            nn.Conv2d(in_channels=512, out_channels=512, kernel_size=3, stride=1, padding=1),\n",
    "            nn.ReLU(),\n",
    "            nn.Conv2d(in_channels=512, out_channels=512, kernel_size=3, stride=1, padding=1),\n",
    "            nn.ReLU(),\n",
    "            nn.MaxPool2d(kernel_size=2, stride=2),\n",
    "            # 28 -> 14\n",
    "\n",
    "            nn.Conv2d(in_channels=512, out_channels=512, kernel_size=3, stride=1, padding=1),\n",
    "            nn.ReLU(),\n",
    "            nn.Conv2d(in_channels=512, out_channels=512, kernel_size=3, stride=1, padding=1),\n",
    "            nn.ReLU(),\n",
    "            nn.Conv2d(in_channels=512, out_channels=512, kernel_size=3, stride=1, padding=1),\n",
    "            nn.ReLU(),\n",
    "            nn.MaxPool2d(kernel_size=2, stride=2),\n",
    "            # 14 -> 7\n",
    "\n",
    "            nn.Flatten(), # Flatten은 layer로 안쳐준다.\n",
    "            nn.Dropout(.5),\n",
    "            nn.Linear(in_features=512*7*7, out_features=4096),\n",
    "            nn.ReLU(),\n",
    "            nn.Dropout(.5),\n",
    "            nn.Linear(in_features=4096, out_features=4096),\n",
    "            nn.ReLU(),\n",
    "            nn.Linear(in_features=4096, out_features=1000)\n",
    "        )\n",
    "    def forward(self, x):\n",
    "        return self.convnet(x)\n",
    "    "
   ]
  },
  {
   "cell_type": "code",
   "execution_count": null,
   "id": "ca86b7b0",
   "metadata": {},
   "outputs": [],
   "source": [
    "model = VGG_16()\n",
    "\n",
    "loss_fn = nn.CrossEntropyLoss()\n",
    "optimizer = optim.SGD(params=model.parameters(), lr=1e-2, momentum=.9, weight_decay=5e-4)"
   ]
  },
  {
   "cell_type": "markdown",
   "id": "988fe5a4",
   "metadata": {},
   "source": [
    "### 학습 함수"
   ]
  },
  {
   "cell_type": "code",
   "execution_count": null,
   "id": "93f3aa79",
   "metadata": {},
   "outputs": [],
   "source": [
    "def train(dataloader, model, loss_fn, optimizer):\n",
    "    size = len(dataloader) # 사실 없어도 됨 마지막에 가독성을 좋게하기위해 사용\n",
    "    model.train()   # torch안의 module안에 train이라는 메소드가 있다.\n",
    "    \n",
    "    for batch, data in enumerate(dataloader):\n",
    "        image, label = data\n",
    "\n",
    "        # Compute prediction error \n",
    "        pred = model(image) # model.forward(image)\n",
    "        # softmax = nn.Softmax(dim=1)\n",
    "        # pred_probab = softmax(pred)\n",
    "        loss = loss_fn(pred, label)\n",
    "\n",
    "        # backpropagation\n",
    "        loss.backward() # 쓸모없는 노드를 지운다. # 매개변수를 안정해주면 랜덤으로 잡고 경사하강을 한다.\n",
    "        optimizer.step() #learning rate 만큼 내려간다.\n",
    "        optimizer.zero_grad() #초기화해주는데 해주는 이유는 이전 스텝을 기억하고있으면 다음 스텝에 영향을 줄 수 있기때문에 초기화한다.\n",
    "\n",
    "        if not(batch % 100):\n",
    "            loss, current = loss.item(), (batch + 1) * len(image)\n",
    "            print(f\"loss : {loss:>7f}   [{current:>5d}/{size:>5d}]\")"
   ]
  },
  {
   "cell_type": "markdown",
   "id": "8fb03c7e",
   "metadata": {},
   "source": [
    "### 테스트 함수"
   ]
  },
  {
   "cell_type": "code",
   "execution_count": null,
   "id": "79bca760",
   "metadata": {},
   "outputs": [],
   "source": [
    "def test(dataloader, model, loss_fn):\n",
    "    size = len(dataloader.dataset)\n",
    "    num_batches = len(dataloader)\n",
    "    model.eval() #평가를 해주겠다 명시\n",
    "    test_loss, correct = 0, 0\n",
    "    \n",
    "    with torch.no_grad(): #no_grad -> 최적화를 수행하지 않겠다.\n",
    "        for image, label in dataloader:\n",
    "            pred = model(image)\n",
    "            # softmax = nn.Softmax(dim=1)\n",
    "            # pred_probab = softmax(pred)\n",
    "            test_loss += loss_fn(pred, label).item() #.item() -> loss_fn에 있는 데이터값을 불러준다.\n",
    "            correct += (pred.argmax(1) == label).type(torch.float).sum().item()\n",
    "                            #argmax --> 예측값중에 가장 큰 값을 뽑아오는 것\n",
    "    \n",
    "    test_loss /= num_batches\n",
    "    correct /=size\n",
    "    print(f\"Test Error: \\n Accuracy: {(100*correct):>0.1f}%, Avg loss: {test_loss:>8f} \\n\")"
   ]
  },
  {
   "cell_type": "markdown",
   "id": "8f481213",
   "metadata": {},
   "source": [
    "### 실행"
   ]
  },
  {
   "cell_type": "code",
   "execution_count": null,
   "id": "ff3c3b03",
   "metadata": {},
   "outputs": [
    {
     "name": "stdout",
     "output_type": "stream",
     "text": [
      "Epoch 1\n",
      "------------------------------------------------\n"
     ]
    },
    {
     "ename": "ValueError",
     "evalue": "too many values to unpack (expected 2)",
     "output_type": "error",
     "traceback": [
      "\u001b[1;31m---------------------------------------------------------------------------\u001b[0m",
      "\u001b[1;31mValueError\u001b[0m                                Traceback (most recent call last)",
      "Cell \u001b[1;32mIn[18], line 4\u001b[0m\n\u001b[0;32m      2\u001b[0m \u001b[38;5;28;01mfor\u001b[39;00m i \u001b[38;5;129;01min\u001b[39;00m \u001b[38;5;28mrange\u001b[39m(epochs):\n\u001b[0;32m      3\u001b[0m     \u001b[38;5;28mprint\u001b[39m(\u001b[38;5;124mf\u001b[39m\u001b[38;5;124m\"\u001b[39m\u001b[38;5;124mEpoch \u001b[39m\u001b[38;5;132;01m{\u001b[39;00mi\u001b[38;5;250m \u001b[39m\u001b[38;5;241m+\u001b[39m\u001b[38;5;250m \u001b[39m\u001b[38;5;241m1\u001b[39m\u001b[38;5;132;01m}\u001b[39;00m\u001b[38;5;130;01m\\n\u001b[39;00m\u001b[38;5;124m------------------------------------------------\u001b[39m\u001b[38;5;124m\"\u001b[39m)\n\u001b[1;32m----> 4\u001b[0m     \u001b[43mtrain\u001b[49m\u001b[43m(\u001b[49m\u001b[43mtrain_dataloader\u001b[49m\u001b[43m,\u001b[49m\u001b[43m \u001b[49m\u001b[43mmodel\u001b[49m\u001b[43m,\u001b[49m\u001b[43m \u001b[49m\u001b[43mloss_fn\u001b[49m\u001b[43m,\u001b[49m\u001b[43m \u001b[49m\u001b[43moptimizer\u001b[49m\u001b[43m)\u001b[49m\n\u001b[0;32m      5\u001b[0m     test(test_dataloader, model, loss_fn)\n\u001b[0;32m      6\u001b[0m \u001b[38;5;28mprint\u001b[39m(\u001b[38;5;124m\"\u001b[39m\u001b[38;5;124mDone\u001b[39m\u001b[38;5;124m\"\u001b[39m)\n",
      "Cell \u001b[1;32mIn[16], line 6\u001b[0m, in \u001b[0;36mtrain\u001b[1;34m(dataloader, model, loss_fn, optimizer)\u001b[0m\n\u001b[0;32m      3\u001b[0m model\u001b[38;5;241m.\u001b[39mtrain()   \u001b[38;5;66;03m# torch안의 module안에 train이라는 메소드가 있다.\u001b[39;00m\n\u001b[0;32m      5\u001b[0m \u001b[38;5;28;01mfor\u001b[39;00m batch, data \u001b[38;5;129;01min\u001b[39;00m \u001b[38;5;28menumerate\u001b[39m(dataloader):\n\u001b[1;32m----> 6\u001b[0m     image, label \u001b[38;5;241m=\u001b[39m data\n\u001b[0;32m      8\u001b[0m     \u001b[38;5;66;03m# Compute prediction error \u001b[39;00m\n\u001b[0;32m      9\u001b[0m     pred \u001b[38;5;241m=\u001b[39m model(image) \u001b[38;5;66;03m# model.forward(image)\u001b[39;00m\n",
      "\u001b[1;31mValueError\u001b[0m: too many values to unpack (expected 2)"
     ]
    }
   ],
   "source": [
    "epochs = 30\n",
    "for i in range(epochs):\n",
    "    print(f\"Epoch {i + 1}\\n------------------------------------------------\")\n",
    "    train(train_dataloader, model, loss_fn, optimizer)\n",
    "    test(test_dataloader, model, loss_fn)\n",
    "print(\"Done\")"
   ]
  }
 ],
 "metadata": {
  "kernelspec": {
   "display_name": "test_env",
   "language": "python",
   "name": "python3"
  },
  "language_info": {
   "codemirror_mode": {
    "name": "ipython",
    "version": 3
   },
   "file_extension": ".py",
   "mimetype": "text/x-python",
   "name": "python",
   "nbconvert_exporter": "python",
   "pygments_lexer": "ipython3",
   "version": "3.9.21"
  }
 },
 "nbformat": 4,
 "nbformat_minor": 5
}
